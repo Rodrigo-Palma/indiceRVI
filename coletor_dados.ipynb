{
 "cells": [
  {
   "cell_type": "code",
   "execution_count": 6,
   "metadata": {},
   "outputs": [],
   "source": [
    "import yfinance as yf\n",
    "import pandas as pd\n",
    "from datetime import datetime, timedelta\n",
    "import os"
   ]
  },
  {
   "cell_type": "code",
   "execution_count": 2,
   "metadata": {},
   "outputs": [],
   "source": [
    "# Lista de tickers de interesse\n",
    "tickers = ['BPAC11.SA', 'BBAS3.SA', 'ITUB4.SA','SANB11.SA', 'BBDC4.SA']"
   ]
  },
  {
   "cell_type": "code",
   "execution_count": 3,
   "metadata": {},
   "outputs": [],
   "source": [
    "# Intervalo de datas desejado (de '2017-02-24' até a data de ontem)\n",
    "end_date = (datetime.now() - timedelta(days=0)).strftime('%Y-%m-%d')\n",
    "start_date = '2017-02-24'"
   ]
  },
  {
   "cell_type": "code",
   "execution_count": 4,
   "metadata": {},
   "outputs": [
    {
     "name": "stdout",
     "output_type": "stream",
     "text": [
      "[*********************100%%**********************]  1 of 1 completed\n",
      "[*********************100%%**********************]  1 of 1 completed\n",
      "[*********************100%%**********************]  1 of 1 completed\n",
      "[*********************100%%**********************]  1 of 1 completed\n",
      "[*********************100%%**********************]  1 of 1 completed\n"
     ]
    }
   ],
   "source": [
    "def fetch_yahoo_finance_data(ticker, start_date, end_date):\n",
    "    # Coleta dos dados do Yahoo Finance para o ticker especificado e o intervalo de datas\n",
    "    df = yf.download(ticker, start=start_date, end=end_date)\n",
    "    df['ticker'] = ticker  # Adiciona a coluna de ticker\n",
    "\n",
    "    return df\n",
    "\n",
    "# Coleta dos dados e armazenamento em um dicionário de DataFrames\n",
    "dfs = {}\n",
    "for ticker in tickers:\n",
    "    df = fetch_yahoo_finance_data(ticker, start_date, end_date)\n",
    "    df.reset_index(inplace=True)  # Resetar o índice para obter o índice numérico\n",
    "    df['Date'] = df['Date'].dt.strftime('%Y-%m-%d')  # Formatar a coluna de data\n",
    "    dfs[ticker] = df[['Date', 'Open', 'High', 'Low', 'Close', 'ticker']]\n",
    "\n",
    "# Concatena os DataFrames em um único DataFrame\n",
    "result_df = pd.concat(dfs.values(), ignore_index=True)\n",
    "\n",
    "# Adiciona o índice\n",
    "result_df.index.name = ''\n",
    "result_df.index = result_df.index + 1"
   ]
  },
  {
   "cell_type": "code",
   "execution_count": 7,
   "metadata": {},
   "outputs": [],
   "source": [
    "# Verifica se o diretório 'dados' existe, se não existir, cria o diretório\n",
    "if not os.path.exists('dados'):\n",
    "    os.makedirs('dados')\n",
    "\n",
    "# Salva os dados em um arquivo CSV\n",
    "result_df.to_csv('dados/stocks.csv', index=False)"
   ]
  }
 ],
 "metadata": {
  "kernelspec": {
   "display_name": "Python 3",
   "language": "python",
   "name": "python3"
  },
  "language_info": {
   "codemirror_mode": {
    "name": "ipython",
    "version": 3
   },
   "file_extension": ".py",
   "mimetype": "text/x-python",
   "name": "python",
   "nbconvert_exporter": "python",
   "pygments_lexer": "ipython3",
   "version": "3.11.0"
  }
 },
 "nbformat": 4,
 "nbformat_minor": 2
}
